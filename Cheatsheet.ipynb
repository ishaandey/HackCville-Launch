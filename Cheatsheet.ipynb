{
  "nbformat": 4,
  "nbformat_minor": 0,
  "metadata": {
    "colab": {
      "name": "Cheatsheet",
      "version": "0.3.2",
      "provenance": []
    },
    "kernelspec": {
      "name": "python3",
      "display_name": "Python 3"
    }
  },
  "cells": [
    {
      "cell_type": "markdown",
      "metadata": {
        "id": "WMner9wSuAfk",
        "colab_type": "text"
      },
      "source": [
        "## Distribution of Data"
      ]
    },
    {
      "cell_type": "code",
      "metadata": {
        "id": "kVbkXkZGsoOX",
        "colab_type": "code",
        "colab": {}
      },
      "source": [
        "train[train.columns[:-1]].std().plot('hist');\n",
        "train[train.columns[:-1]].mean().plot('hist');"
      ],
      "execution_count": 0,
      "outputs": []
    },
    {
      "cell_type": "code",
      "metadata": {
        "id": "al8qKfrss1Fu",
        "colab_type": "code",
        "colab": {}
      },
      "source": [
        "plt.figure(figsize=(26, 24))\n",
        "for i, col in enumerate(list(train.columns)[2:30]):\n",
        "    plt.subplot(7, 4, i + 1)\n",
        "    plt.hist(train[col])\n",
        "    plt.title(col)\n"
      ],
      "execution_count": 0,
      "outputs": []
    },
    {
      "cell_type": "code",
      "metadata": {
        "id": "DpZ3Oko5s3Fq",
        "colab_type": "code",
        "colab": {}
      },
      "source": [
        "train['target'].value_counts()/len(train['target'])\n"
      ],
      "execution_count": 0,
      "outputs": []
    },
    {
      "cell_type": "markdown",
      "metadata": {
        "id": "LRot8YPSuL3b",
        "colab_type": "text"
      },
      "source": [
        "## Correlation Matrix Sorted"
      ]
    },
    {
      "cell_type": "code",
      "metadata": {
        "id": "PUFMYqyys6M-",
        "colab_type": "code",
        "colab": {}
      },
      "source": [
        "corrs = train.corr().abs().unstack().sort_values(kind=\"quicksort\").reset_index()\n",
        "corrs = corrs[corrs['level_0'] != corrs['level_1']]\n",
        "corrs.tail(10)\n"
      ],
      "execution_count": 0,
      "outputs": []
    },
    {
      "cell_type": "code",
      "metadata": {
        "id": "JD0vkGRztfOu",
        "colab_type": "code",
        "colab": {}
      },
      "source": [
        "from pdpbox import pdp\n",
        "pdp_pedi_insul = pdp.pdp_interact(interact_insul_pedi,dataset[names],['insul','pedi'])\n",
        "pdp.pdp_interact_plot(pdp_pedi_insul, ['insul','pedi'], center=True, plot_org_pts=True, plot_lines=True, frac_to_plot=0.5)"
      ],
      "execution_count": 0,
      "outputs": []
    },
    {
      "cell_type": "markdown",
      "metadata": {
        "id": "weSzZQ8btzwD",
        "colab_type": "text"
      },
      "source": [
        "##Seaborn Plotting Styling Guide"
      ]
    },
    {
      "cell_type": "code",
      "metadata": {
        "id": "pQESQ_TNtyfH",
        "colab_type": "code",
        "colab": {}
      },
      "source": [
        "# All the possibility of style:\n",
        "possibilities = [u'seaborn-darkgrid', u'seaborn-notebook', u'classic', u'seaborn-ticks', u'grayscale', u'bmh', u'seaborn-talk', u'dark_background', u'ggplot', u'fivethirtyeight', u'_classic_test', u'seaborn-colorblind', u'seaborn-deep', u'seaborn-whitegrid', u'seaborn-bright', u'seaborn-poster', u'seaborn-muted', u'seaborn-paper', u'seaborn-white', u'seaborn-pastel', u'seaborn-dark', u'seaborn', u'seaborn-dark-palette']\n",
        " \n",
        "# Initialise figure\n",
        "my_dpi=96\n",
        "plt.figure(figsize=(1000/my_dpi, 1000/my_dpi), dpi=my_dpi)\n",
        " \n",
        "# Let's do a chart per possibility:\n",
        "for n, v in enumerate(possibilities):\n",
        "print n, v\n",
        " \n",
        "# I set the new style\n",
        "plt.style.use(v)\n",
        " \n",
        "# Start new place in the figure\n",
        "plt.subplot(5 ,5, n + 1)\n",
        " \n",
        "# multiple line plot\n",
        "for column in df.drop('x', axis=1):\n",
        "plt.plot(df['x'], df[column], marker='', color='grey', linewidth=1, alpha=0.4)\n",
        " \n",
        "# And highlith one\n",
        "plt.plot(df['x'], df['y5'], marker='', color='orange', linewidth=4)\n",
        " \n",
        "# Add a title to say which style it is\n",
        "plt.title(v, fontsize=10, fontweight=0, color='grey', loc='left')\n",
        " \n",
        "# remove labels\n",
        "plt.tick_params(labelbottom='off')\n",
        "plt.tick_params(labelleft='off')\n",
        " \n",
        "# save\n",
        "plt.savefig('PNG/#199_Matplotlib_style_sheet.png', dpi=96, bbox_inches='tight')"
      ],
      "execution_count": 0,
      "outputs": []
    },
    {
      "cell_type": "code",
      "metadata": {
        "id": "odYSq1SJukkb",
        "colab_type": "code",
        "colab": {}
      },
      "source": [
        ""
      ],
      "execution_count": 0,
      "outputs": []
    },
    {
      "cell_type": "markdown",
      "metadata": {
        "id": "KpkdB8cPulQM",
        "colab_type": "text"
      },
      "source": [
        "##Seaborn Joint Plot"
      ]
    },
    {
      "cell_type": "code",
      "metadata": {
        "id": "HQd7BBwkunvZ",
        "colab_type": "code",
        "colab": {
          "base_uri": "https://localhost:8080/",
          "height": 181
        },
        "outputId": "0508cf71-8ddb-4c1e-ada8-d5d45a0c565e"
      },
      "source": [
        "g = sns.jointplot(\"total_bill\", \"tip\", data=tips, kind=\"reg\")\n",
        "g = sns.jointplot(\"total_bill\", \"tip\", data=tips, height=5, ratio=3, color=\"g\")"
      ],
      "execution_count": 1,
      "outputs": [
        {
          "output_type": "error",
          "ename": "NameError",
          "evalue": "ignored",
          "traceback": [
            "\u001b[0;31m---------------------------------------------------------------------------\u001b[0m",
            "\u001b[0;31mNameError\u001b[0m                                 Traceback (most recent call last)",
            "\u001b[0;32m<ipython-input-1-882cd3dba223>\u001b[0m in \u001b[0;36m<module>\u001b[0;34m()\u001b[0m\n\u001b[0;32m----> 1\u001b[0;31m \u001b[0mg\u001b[0m \u001b[0;34m=\u001b[0m \u001b[0msns\u001b[0m\u001b[0;34m.\u001b[0m\u001b[0mjointplot\u001b[0m\u001b[0;34m(\u001b[0m\u001b[0;34m\"total_bill\"\u001b[0m\u001b[0;34m,\u001b[0m \u001b[0;34m\"tip\"\u001b[0m\u001b[0;34m,\u001b[0m \u001b[0mdata\u001b[0m\u001b[0;34m=\u001b[0m\u001b[0mtips\u001b[0m\u001b[0;34m,\u001b[0m \u001b[0mkind\u001b[0m\u001b[0;34m=\u001b[0m\u001b[0;34m\"reg\"\u001b[0m\u001b[0;34m)\u001b[0m\u001b[0;34m\u001b[0m\u001b[0;34m\u001b[0m\u001b[0m\n\u001b[0m\u001b[1;32m      2\u001b[0m \u001b[0mg\u001b[0m \u001b[0;34m=\u001b[0m \u001b[0msns\u001b[0m\u001b[0;34m.\u001b[0m\u001b[0mjointplot\u001b[0m\u001b[0;34m(\u001b[0m\u001b[0;34m\"total_bill\"\u001b[0m\u001b[0;34m,\u001b[0m \u001b[0;34m\"tip\"\u001b[0m\u001b[0;34m,\u001b[0m \u001b[0mdata\u001b[0m\u001b[0;34m=\u001b[0m\u001b[0mtips\u001b[0m\u001b[0;34m,\u001b[0m \u001b[0mheight\u001b[0m\u001b[0;34m=\u001b[0m\u001b[0;36m5\u001b[0m\u001b[0;34m,\u001b[0m \u001b[0mratio\u001b[0m\u001b[0;34m=\u001b[0m\u001b[0;36m3\u001b[0m\u001b[0;34m,\u001b[0m \u001b[0mcolor\u001b[0m\u001b[0;34m=\u001b[0m\u001b[0;34m\"g\"\u001b[0m\u001b[0;34m)\u001b[0m\u001b[0;34m\u001b[0m\u001b[0;34m\u001b[0m\u001b[0m\n",
            "\u001b[0;31mNameError\u001b[0m: name 'sns' is not defined"
          ]
        }
      ]
    },
    {
      "cell_type": "code",
      "metadata": {
        "id": "YPHa_jmbu8FM",
        "colab_type": "code",
        "colab": {}
      },
      "source": [
        ""
      ],
      "execution_count": 0,
      "outputs": []
    }
  ]
}